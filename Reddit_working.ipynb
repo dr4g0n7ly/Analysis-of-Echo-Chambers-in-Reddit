{
 "cells": [
  {
   "cell_type": "code",
   "execution_count": 1,
   "id": "7f8f4e50",
   "metadata": {},
   "outputs": [],
   "source": [
    "\n",
    "from transformers import AutoTokenizer, AutoModelForSequenceClassification\n",
    "import torch\n",
    "import requests\n",
    "from bs4 import BeautifulSoup\n",
    "import re"
   ]
  },
  {
   "cell_type": "code",
   "execution_count": 2,
   "id": "8de22fbf",
   "metadata": {},
   "outputs": [],
   "source": [
    "import pandas as pd"
   ]
  },
  {
   "cell_type": "code",
   "execution_count": 3,
   "id": "07b353dd",
   "metadata": {},
   "outputs": [
    {
     "name": "stdout",
     "output_type": "stream",
     "text": [
      "Requirement already satisfied: profanity in d:\\anaconda3\\lib\\site-packages (1.1)\n"
     ]
    },
    {
     "name": "stderr",
     "output_type": "stream",
     "text": [
      "WARNING: Ignoring invalid distribution -ensorflow (d:\\anaconda3\\lib\\site-packages)\n",
      "WARNING: Ignoring invalid distribution -ensorflow (d:\\anaconda3\\lib\\site-packages)\n",
      "WARNING: Ignoring invalid distribution -ensorflow (d:\\anaconda3\\lib\\site-packages)\n",
      "WARNING: Ignoring invalid distribution -ensorflow (d:\\anaconda3\\lib\\site-packages)\n",
      "WARNING: Ignoring invalid distribution -ensorflow (d:\\anaconda3\\lib\\site-packages)\n",
      "WARNING: Ignoring invalid distribution -ensorflow (d:\\anaconda3\\lib\\site-packages)\n"
     ]
    }
   ],
   "source": [
    "!pip install profanity\n",
    "from profanity import profanity"
   ]
  },
  {
   "cell_type": "code",
   "execution_count": 4,
   "id": "32662a9d",
   "metadata": {},
   "outputs": [
    {
     "data": {
      "text/plain": [
       "True"
      ]
     },
     "execution_count": 4,
     "metadata": {},
     "output_type": "execute_result"
    }
   ],
   "source": [
    "profanity.contains_profanity(\"fuck all these people\")"
   ]
  },
  {
   "cell_type": "code",
   "execution_count": 5,
   "id": "4db10738",
   "metadata": {},
   "outputs": [
    {
     "name": "stderr",
     "output_type": "stream",
     "text": [
      "Version 7.6.1 of praw is outdated. Version 7.7.0 was released Saturday February 25, 2023.\n"
     ]
    }
   ],
   "source": [
    "import praw\n",
    "\n",
    "reddit = praw.Reddit(\n",
    "    client_id=\"IISZRvsPo8OBGV06-x_D1Q\",\n",
    "    client_secret=\"sX4K-1ciu8fAIer3m0KHMy2riJs0yw\",\n",
    "    user_agent=\"Python:SIN project:v1.0 (by /u/Mundane_Trick3335)\",\n",
    ")"
   ]
  },
  {
   "cell_type": "code",
   "execution_count": 6,
   "id": "e7162a71",
   "metadata": {},
   "outputs": [
    {
     "name": "stdout",
     "output_type": "stream",
     "text": [
      "True\n"
     ]
    }
   ],
   "source": [
    "print(reddit.read_only)"
   ]
  },
  {
   "cell_type": "code",
   "execution_count": 7,
   "id": "12673b3c",
   "metadata": {},
   "outputs": [
    {
     "name": "stdout",
     "output_type": "stream",
     "text": [
      "test\n",
      "let it be by me active shooter game again 2\n",
      "let it be by me active shooter game again\n",
      "2023-04-13 Massachusetts COVID weekly data: 1569 new cases at 3.7% test positivity, 17 new deaths, 287 total individuals hospitalized with COVID\n",
      "let it be by me\n",
      "proof of ownership\n",
      "San Francisco Meteo\n",
      "San Francisco Meteo\n",
      "San Francisco Meteo\n",
      "San Francisco Meteo\n"
     ]
    }
   ],
   "source": [
    "for submission in reddit.subreddit(\"test\").hot(limit=10):\n",
    "    print(submission.title)"
   ]
  },
  {
   "cell_type": "code",
   "execution_count": 8,
   "id": "d0e30e13",
   "metadata": {},
   "outputs": [],
   "source": [
    "prolife_subreddits = [                                         \n",
    "    \"prolife\",    \n",
    "    \"MarchForLife\",    \n",
    "    \"Abortiondebate\",    \n",
    "    \"ProLifeLibertarians\",    \n",
    "    \"AbolishAbortion\",       \n",
    "    \"StudentsForLife\",              \n",
    "    \"RightToLife\",                    \n",
    "    \"AbortionRegret\",                                \n",
    "    \"RealProLife\",           \n",
    "    \"ProLifeMemes\",           \n",
    "    \"ProLifeVegan\" \n",
    "]"
   ]
  },
  {
   "cell_type": "code",
   "execution_count": 9,
   "id": "0b84e44b",
   "metadata": {},
   "outputs": [],
   "source": [
    "pro_choice_subreddits = [                                                   \n",
    "    \"prochoice\",    \n",
    "    \"abortion\",    \n",
    "    \"PlannedParenthood\",    \n",
    "    \"ReproJustice\",       \n",
    "    \"BirthControl\",                          \n",
    "    \"LateTermAbortion\",\n",
    "    \"AbortionAccess\",    \n",
    "    \"MyBodyMyChoice\",\n",
    "    \"WomenHealthcare\",        \n",
    "    \"reproductivejustice\",    \n",
    "    \"ReproductiveRights\",        \n",
    "]"
   ]
  },
  {
   "cell_type": "code",
   "execution_count": 10,
   "id": "214e6a8b",
   "metadata": {},
   "outputs": [],
   "source": [
    "mixed = [\n",
    "    \"SocialJustice\",    \n",
    "    \"Activism\", \n",
    "    \"Progressive\",\n",
    "    \"Abortiondebate\",\n",
    "    \"WomensHealth\",\n",
    "    \"Healthcare\",\n",
    "    \"Feminism\",    \n",
    "    \"FeministTheory\",\n",
    "    \"EqualRights\",\n",
    "    \"TwoXChromosomes\",\n",
    "    \"r/PlannedParenthood\"\n",
    "]"
   ]
  },
  {
   "cell_type": "code",
   "execution_count": 11,
   "id": "a251aaa7",
   "metadata": {},
   "outputs": [],
   "source": [
    "combined_list=prolife_subreddits+pro_choice_subreddits+mixed"
   ]
  },
  {
   "cell_type": "code",
   "execution_count": 12,
   "id": "54fe808f",
   "metadata": {},
   "outputs": [],
   "source": [
    "\n",
    "tokenizer = AutoTokenizer.from_pretrained('cardiffnlp/twitter-roberta-base-stance-abortion')\n",
    "model = AutoModelForSequenceClassification.from_pretrained('cardiffnlp/twitter-roberta-base-stance-abortion')"
   ]
  },
  {
   "cell_type": "code",
   "execution_count": 13,
   "id": "f1c91afc",
   "metadata": {},
   "outputs": [],
   "source": [
    "def relevant_comment(text):\n",
    "    keywords = [\"pro-life\", \"pro-choice\", \"abortion\", \"fetus\", \"pregnancy\", \"reproductive rights\", \"women's rights\", \"roe v. wade\", \"contraception\", \"termination\", \"embryo\", \"planned parenthood\", \"ultrasound\", \"adoption\", \"parental\", \"consent\", \"incest\", \"rape\", \"maternal\", \"unsafe\", \"anti-choice\", \"healthcare access\", \"education\", \"teen pregnancy\", \"ife\", \"abortion pill\", \"late-term\", \"back-alley\", \"health\"]\n",
    "    new_keywords = [\"heartbeat\",\"brain\",\"conception\",\"ban\",\"child\", \"access\", \"reproductive\", \"healthcare\", \"women's autonomy\", \"rights\",\"women\", \"personhood\", \"sanctity of life\", \"conscience clause\", \"abortion restriction\", \"procedure\",\"quality\",\"child\",\"children\",\"development\",\"functioning\"]\n",
    "    final_keywords=keywords+new_keywords\n",
    "    for word in keywords:\n",
    "        if word in text.lower():\n",
    "            return True\n",
    "    return False\n"
   ]
  },
  {
   "cell_type": "code",
   "execution_count": 14,
   "id": "764fa3d3",
   "metadata": {},
   "outputs": [],
   "source": [
    "from transformers import AutoTokenizer, AutoModelForSequenceClassification\n",
    "import torch\n",
    "import requests\n",
    "from bs4 import BeautifulSoup\n",
    "import re\n",
    "\n",
    "tokenizer = AutoTokenizer.from_pretrained('cardiffnlp/twitter-roberta-base-stance-abortion')\n",
    "model = AutoModelForSequenceClassification.from_pretrained('cardiffnlp/twitter-roberta-base-stance-abortion')\n",
    "\n",
    "def classify(tok):\n",
    "    tokens = tokenizer.encode(tok, return_tensors='pt')\n",
    "\n",
    "    return int(torch.argmax(model(tokens).logits))\n",
    "\n",
    "\n",
    "def sentiment_score(comment):\n",
    "    tokens = tokenizer.encode(comment, return_tensors='pt')\n",
    "    result = model(tokens)\n",
    "    return int(torch.argmax(result.logits))+1"
   ]
  },
  {
   "cell_type": "code",
   "execution_count": 15,
   "id": "e389f472",
   "metadata": {},
   "outputs": [
    {
     "data": {
      "text/plain": [
       "1"
      ]
     },
     "execution_count": 15,
     "metadata": {},
     "output_type": "execute_result"
    }
   ],
   "source": [
    "sentiment_score(\"My favourite comparison is It's my car, it's my alcohol, I can drive drunk. If you're so worried, drive sober and put on your seatbelt.\")"
   ]
  },
  {
   "cell_type": "code",
   "execution_count": 16,
   "id": "706d6293",
   "metadata": {},
   "outputs": [],
   "source": [
    "file = open('prochoice.txt', 'w+')"
   ]
  },
  {
   "cell_type": "code",
   "execution_count": 17,
   "id": "ed7f775e",
   "metadata": {},
   "outputs": [
    {
     "data": {
      "text/plain": [
       "['prolife',\n",
       " 'MarchForLife',\n",
       " 'Abortiondebate',\n",
       " 'ProLifeLibertarians',\n",
       " 'AbolishAbortion',\n",
       " 'StudentsForLife',\n",
       " 'RightToLife',\n",
       " 'AbortionRegret',\n",
       " 'RealProLife',\n",
       " 'ProLifeMemes',\n",
       " 'ProLifeVegan',\n",
       " 'prochoice',\n",
       " 'abortion',\n",
       " 'PlannedParenthood',\n",
       " 'ReproJustice',\n",
       " 'BirthControl',\n",
       " 'LateTermAbortion',\n",
       " 'AbortionAccess',\n",
       " 'MyBodyMyChoice',\n",
       " 'WomenHealthcare',\n",
       " 'reproductivejustice',\n",
       " 'ReproductiveRights',\n",
       " 'SocialJustice',\n",
       " 'Activism',\n",
       " 'Progressive',\n",
       " 'Abortiondebate',\n",
       " 'WomensHealth',\n",
       " 'Healthcare',\n",
       " 'Feminism',\n",
       " 'FeministTheory',\n",
       " 'EqualRights',\n",
       " 'TwoXChromosomes',\n",
       " 'r/PlannedParenthood']"
      ]
     },
     "execution_count": 17,
     "metadata": {},
     "output_type": "execute_result"
    }
   ],
   "source": [
    "combined_list"
   ]
  },
  {
   "cell_type": "code",
   "execution_count": 18,
   "id": "2db0ff1c",
   "metadata": {},
   "outputs": [],
   "source": [
    "total_choice=0\n",
    "total_life=0\n",
    "total_all=0\n",
    "\n",
    "prochoice_prof=0\n",
    "prolife_prof=0\n",
    "nonEcho_prof=0\n",
    "\n",
    "prochoice_comments=0\n",
    "prolife_comments=0\n",
    "neutral_comments=0"
   ]
  },
  {
   "cell_type": "markdown",
   "id": "db5a428e",
   "metadata": {},
   "source": [
    "# Taking each post from identified subredits and checking for echo chambers"
   ]
  },
  {
   "cell_type": "code",
   "execution_count": 19,
   "id": "46f83a1e",
   "metadata": {
    "scrolled": true
   },
   "outputs": [
    {
     "name": "stdout",
     "output_type": "stream",
     "text": [
      "ProLife\n",
      "Overall:  3 0 7\n",
      "March for Life\n",
      "Overall:  0 2 8\n",
      "Debating Abortion\n",
      "Overall:  7 0 3\n",
      "Pro Life Libertarians\n",
      "Overall:  1 1 8\n",
      "AbolishAbortion\n",
      "Overall:  0 0 10\n",
      "Students for life\n",
      "Overall:  0 0 1\n",
      "Right To Life\n",
      "Overall:  0 1 9\n",
      "abortionregret\n",
      "Overall:  0 0 1\n",
      "Pro-Life Memes\n",
      "Overall:  0 1 9\n",
      "ProLifeVegan\n",
      "Overall:  0 1 9\n",
      "Pro-choice\n",
      "Overall:  3 0 7\n",
      "abortion\n",
      "Overall:  5 0 5\n",
      "PlannedParenthood\n",
      "Overall:  1 0 9\n",
      "Reproductive Justice, Health, and Activism\n",
      "Overall:  0 0 10\n",
      "All things related to birth control\n",
      "Overall:  0 0 10\n",
      "latetermabortion\n",
      "Overall:  0 0 2\n",
      "abortion access\n",
      "Overall:  1 0 2\n",
      "MyBodyMyChoice\n",
      "Overall:  0 0 6\n",
      "WomenHealthCare\n",
      "Overall:  0 0 10\n",
      "Reproductive Justice\n",
      "Overall:  3 0 7\n",
      "ReproductiveRights\n",
      "Overall:  0 0 3\n",
      "Social Justice\n",
      "Overall:  0 0 10\n",
      "/r/activism: a place for activists of all types\n",
      "Overall:  0 0 10\n",
      "Reddit: Progressive\n",
      "Overall:  1 0 9\n",
      "Debating Abortion\n",
      "Overall:  7 0 3\n",
      "Women's Health: women's health news, questions and discussion\n",
      "Overall:  5 0 5\n",
      "healthcare: systems, costs, problems and proposed solutions.\n",
      "Overall:  1 1 8\n",
      "Feminism - “the personal is political” \n",
      "Overall:  6 0 4\n",
      "Feminist Theory\n",
      "Overall:  0 0 10\n",
      "Equal Rights\n",
      "Overall:  0 0 10\n",
      "r/TwoXChromosomes: You are the community. You have all the power of the internet to mold it.\n",
      "Overall:  5 0 5\n"
     ]
    }
   ],
   "source": [
    "#opening files\n",
    "with open('prochoice.txt', 'w') as f:\n",
    "    f.write('')\n",
    "with open('prolife.txt', 'w') as f:\n",
    "    f.write('')\n",
    "with open('mixed.txt', 'w') as f:\n",
    "    f.write('')\n",
    "\n",
    "#look at each identified subreddit\n",
    "for subr in combined_list:\n",
    "    if subr in pro_choice_subreddits:\n",
    "        file = open('prochoice.txt', 'a+')\n",
    "    elif subr in prolife_subreddits:\n",
    "        file = open('prolife.txt', 'a+')\n",
    "    else:\n",
    "        file = open('mixed.txt', 'a+')\n",
    "    subreddit = reddit.subreddit(subr)\n",
    "    try:\n",
    "        print(subreddit.title)\n",
    "    except:\n",
    "        continue\n",
    "    file.write(subreddit.title+\"\\n\")\n",
    "\n",
    "    #initializing all variables\n",
    "    non_echo=0\n",
    "    choice_echo=0\n",
    "    life_echo=0\n",
    "    toxic_comm=0\n",
    "    \n",
    "    \n",
    "    i=1\n",
    "    #look at each submission in subreddit\n",
    "    for submission in subreddit.hot(limit=10):\n",
    "        prof_post=0\n",
    "        total=0\n",
    "        choice=0\n",
    "        life=0\n",
    "        \n",
    "        file.write(\"Post \"+str(i)+\": \")\n",
    "        tok=submission.title\n",
    "        if relevant_comment(tok):\n",
    "            score=sentiment_score(tok[:940])\n",
    "            total+=1\n",
    "            if(score==3):\n",
    "                choice+=1\n",
    "            elif(score==2):\n",
    "                life+=1\n",
    "            if(profanity.contains_profanity(tok)):\n",
    "                prof_post+=1\n",
    "        submission.comments.replace_more(limit=None)\n",
    "        \n",
    "        #look at each comment of submission\n",
    "        for top_level_comment in submission.comments:\n",
    "            tok=top_level_comment.body\n",
    "            if relevant_comment(tok):\n",
    "                score=sentiment_score(tok[:940])\n",
    "                total+=1\n",
    "                if(score==3):\n",
    "                    choice+=1\n",
    "                elif(score==2):\n",
    "                    life+=1\n",
    "                if(profanity.contains_profanity(tok)):\n",
    "                    prof_post+=1\n",
    "            #look at second level comment of each submission\n",
    "            for second_level_comment in top_level_comment.replies:\n",
    "                tok=second_level_comment.body\n",
    "                if relevant_comment(tok):\n",
    "                    score=sentiment_score(tok[:940])\n",
    "                    total+=1\n",
    "                    if(score==3):\n",
    "                        choice+=1\n",
    "                        prochoice_comments+=1\n",
    "                    elif(score==2):\n",
    "                        life+=1\n",
    "                        prolife_comments+=1\n",
    "                    else:\n",
    "                        neutral_comments+=1\n",
    "                    if(profanity.contains_profanity(tok)):\n",
    "                        prof_post+=1\n",
    "\n",
    "\n",
    "        #determine if submission is an echo chamber\n",
    "        if (total!=0):\n",
    "            file.write(str(choice)+\" \"+str(life)+\" \"+str(total)+\"\\n\")\n",
    "        i+=1\n",
    "        if choice>1 and float(total-life)/(float(total)) > 0.8:\n",
    "            choice_echo+=1\n",
    "            prochoice_prof+=prof_post\n",
    "        elif life>1 and float(total-choice)/(float(total)) > 0.8:\n",
    "            life_echo+=1\n",
    "            prolife_prof+=prof_post\n",
    "        else:\n",
    "            non_echo+=1 \n",
    "            nonEcho_prof+=prof_post\n",
    "\n",
    "    #write to file and print\n",
    "    total_choice+=choice_echo\n",
    "    total_life+=life_echo\n",
    "    total_all+=life_echo+choice_echo+non_echo\n",
    "    print(\"Overall: \",choice_echo,life_echo,non_echo)\n",
    "    file.write(\"Overall: \"+str(choice_echo)+\" Pro-Choice echo chamber, \" + str(life_echo)+\" Pro-Life echo chambers, \"+str(non_echo)+\" No echo chambers\\n\\n\")\n",
    "    file.close()"
   ]
  },
  {
   "cell_type": "markdown",
   "id": "f9625e35",
   "metadata": {},
   "source": [
    "# Taking identified posts and checking for echo chambers"
   ]
  },
  {
   "cell_type": "code",
   "execution_count": 20,
   "id": "fa4c975d",
   "metadata": {},
   "outputs": [
    {
     "name": "stdout",
     "output_type": "stream",
     "text": [
      "Buttons\n",
      "0 0 4\n",
      "\"My body my choice\" has been so harmful to the pro-choice movement\n",
      "53 19 73\n",
      "TIL that saying that coat hangers are important symbols for the pro-choice movement is “speaking over other activists”. Women should have a choice over how they protest, just like how they should have a choice about their own bodies.\n",
      "5 0 5\n",
      "Women charged police lines and threw Molotov cocktails at officers in Mexico City during protests demanding the legalization of abortion in the majority Roman Catholic country. The protesters, clad in the green bandanas that have become the symbol of the pro-choice movement in Latin America\n",
      "42 23 71\n",
      "The Pro-Choice Movement Finds an Under-Recognized Ally: Religious Groups — Many communities of faith view abortion as a ‘moral option,’ not a mortal sin.\n",
      "13 6 21\n",
      "In a few hours the Argentine Senate will vote for the legalization of abortion (green is the color of the pro-choice movement in Latin America). We've got high hopes for its approval!\n",
      "4 0 5\n",
      "CMV: Abortions are a necessary \"evil\" not a \"Good thing\" to celebrate and it hurts the pro-choice movement\n",
      "20 1 22\n",
      "CMV: The pro-life stance is terrible not because of the views of abortion, but the fact that they don't work towards any programs supported by the pro-choice movement (such as sex education, affordable and accessible healthcare, and attainable contraceptives, all provided by Planned Parenthood)\n",
      "8 4 13\n",
      "Why is healthcare and health outcomes not a priority for the pro life movement?\n",
      "3 7 13\n",
      "Federal judge halts FDA approval of abortion pill mifepristone\n",
      "116 32 180\n",
      "And there it is, abortion trafficking, You don't negotiate with terrorists,you don't negotiate with religious Zealots.\n",
      "206 23 268\n",
      "Opinion | The Abortion Ban Backlash Is Starting to Freak Out Republicans\n",
      "129 24 198\n"
     ]
    }
   ],
   "source": [
    "id_list = [\"3g1jfi\",\"vl7uxz\",\"uo9q7x\",\"j25kbw\",\"jbexqi\",\"kmrgeg\",\"8xhnzb\",\"6dv5t4\",\"11ssx9c\",\"12f2ju0\",\"1250r33\",\"12elkt9\"]\n",
    "file = open('indiPost.txt', 'w+')\n",
    "for id in id_list:\n",
    "    submission = reddit.submission(id=id)\n",
    "    print(submission.title)\n",
    "    \n",
    "    prof_post=0\n",
    "    total=0\n",
    "    choice=0\n",
    "    life=0\n",
    "    # print(\"Post\",i,end=\": \")\n",
    "    file.write(\"Post \"+str(i)+\": \"+str(submission.permalink)+\"\\n\")\n",
    "    tok=submission.title\n",
    "    if relevant_comment(tok):\n",
    "        score=sentiment_score(tok[:514])\n",
    "        total+=1\n",
    "        if(score==3):\n",
    "            choice+=1\n",
    "        elif(score==2):\n",
    "            life+=1\n",
    "        if(profanity.contains_profanity(tok)):\n",
    "            prof_post+=1\n",
    "    # print(submission.author,\":\")\n",
    "    submission.comments.replace_more(limit=None)\n",
    "    \n",
    "    for top_level_comment in submission.comments:\n",
    "        tok=top_level_comment.body\n",
    "        if relevant_comment(tok):\n",
    "            score=sentiment_score(tok[:514])\n",
    "            total+=1\n",
    "            if(score==3):\n",
    "                choice+=1\n",
    "            elif(score==2):\n",
    "                life+=1\n",
    "            if(profanity.contains_profanity(tok)):\n",
    "                prof_post+=1\n",
    "        # print(\"\\t\",top_level_comment.author)\n",
    "        \n",
    "        for second_level_comment in top_level_comment.replies:\n",
    "            tok=second_level_comment.body\n",
    "            if relevant_comment(tok):\n",
    "                score=sentiment_score(tok[:514])\n",
    "                total+=1\n",
    "                if(score==3):\n",
    "                    choice+=1\n",
    "                    prochoice_comments+=1\n",
    "                elif(score==2):\n",
    "                    life+=1\n",
    "                    prolife_comments+=1\n",
    "                else:\n",
    "                    neutral_comments+=1\n",
    "                if(profanity.contains_profanity(tok)):\n",
    "                    prof_post+=1\n",
    "    print(choice, life, total)\n",
    "    if (total!=0):\n",
    "        file.write(str(choice)+\" \"+str(life)+\" \"+str(total)+\"\\n\")\n",
    "    i+=1\n",
    "    if choice>1 and float(total-life)/(float(total)) > 0.8:\n",
    "        choice_echo+=1\n",
    "        prochoice_prof+=prof_post\n",
    "    elif life>1 and float(total-choice)/(float(total)) > 0.8:\n",
    "        life_echo+=1\n",
    "        prolife_prof+=prof_post\n",
    "\n",
    "\n",
    "    else:\n",
    "        non_echo+=1 \n",
    "        nonEcho_prof+=prof_post\n",
    "    # total_choice+=choice_echo\n",
    "    # total_life+=life_echo\n",
    "    # total_all+=life_echo+choice_echo+non_echo\n",
    "    # print(\"Overall: \",choice_echo,life_echo,non_echo)\n",
    "    # file.write(\"Overall: \"+str(choice_echo)+\" Pro-Choice echo chamber, \" + str(life_echo)+\" Pro-Life echo chambers, \"+str(non_echo)+\" No echo chambers\\n\\n\")\n",
    "        \n",
    "\n",
    "file.close()"
   ]
  },
  {
   "cell_type": "code",
   "execution_count": 21,
   "id": "0a41860a",
   "metadata": {},
   "outputs": [
    {
     "name": "stdout",
     "output_type": "stream",
     "text": [
      "49 7 266\n",
      "473 107 104\n",
      "247 0 65\n"
     ]
    }
   ],
   "source": [
    "print(total_choice,total_life,total_all)\n",
    "print(prochoice_comments,prolife_comments,neutral_comments)\n",
    "print(prochoice_prof,prolife_prof,nonEcho_prof)"
   ]
  },
  {
   "cell_type": "code",
   "execution_count": null,
   "id": "ac58d8aa",
   "metadata": {},
   "outputs": [],
   "source": [
    "print()"
   ]
  },
  {
   "cell_type": "code",
   "execution_count": null,
   "id": "e1d248f5",
   "metadata": {},
   "outputs": [],
   "source": [
    "import matplotlib.pyplot as plt"
   ]
  },
  {
   "cell_type": "code",
   "execution_count": null,
   "id": "1e539edc",
   "metadata": {},
   "outputs": [
    {
     "data": {
      "image/png": "[encoded data removed]",
      "text/plain": [
       "<Figure size 640x480 with 1 Axes>"
      ]
     },
     "metadata": {},
     "output_type": "display_data"
    }
   ],
   "source": [
    "plt.bar([\"Pro-choice\",\"Pro-life\"],[total_choice, total_life],color=[\"#005f73\",\"#9b2226\"])\n",
    "plt.ylabel(\"Number of echo chambers\")\n",
    "# make this pretty\n",
    "plt.show()"
   ]
  },
  {
   "cell_type": "code",
   "execution_count": null,
   "id": "95813aa7",
   "metadata": {},
   "outputs": [
    {
     "data": {
      "image/png": "[encoded data removed]",
      "text/plain": [
       "<Figure size 640x480 with 1 Axes>"
      ]
     },
     "metadata": {},
     "output_type": "display_data"
    }
   ],
   "source": [
    "plt.bar([\"Pro-choice\",\"Pro-life\",\"Neutral\"],[prochoice_prof/total_choice, prolife_prof/total_life,nonEcho_prof/(total_all-(total_choice+total_life))],color=[\"#005f73\",\"#9b2226\",\"#ee9b00\"])\n",
    "plt.ylabel(\"Avg. amount of profanity per echo chamber\")\n",
    "plt.show()"
   ]
  },
  {
   "cell_type": "code",
   "execution_count": null,
   "id": "29f644d0",
   "metadata": {},
   "outputs": [],
   "source": []
  }
 ],
 "metadata": {
  "kernelspec": {
   "display_name": "Python 3 (ipykernel)",
   "language": "python",
   "name": "python3"
  },
  "language_info": {
   "codemirror_mode": {
    "name": "ipython",
    "version": 3
   },
   "file_extension": ".py",
   "mimetype": "text/x-python",
   "name": "python",
   "nbconvert_exporter": "python",
   "pygments_lexer": "ipython3",
   "version": "3.9.13"
  },
  "vscode": {
   "interpreter": {
    "hash": "a42ccb73e7d9bfdf27e036f1d2b8b681e55fc0743cc5586bc2474d4a60f4b886"
   }
  }
 },
 "nbformat": 4,
 "nbformat_minor": 5
}
