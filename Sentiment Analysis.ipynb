{
 "cells": [
  {
   "cell_type": "code",
   "execution_count": 2,
   "id": "1cb9a6d0",
   "metadata": {},
   "outputs": [],
   "source": [
    "# importing packages\n",
    "\n",
    "from transformers import AutoTokenizer, AutoModelForSequenceClassification\n",
    "import torch\n",
    "import requests\n",
    "from bs4 import BeautifulSoup\n",
    "import re"
   ]
  },
  {
   "cell_type": "code",
   "execution_count": 3,
   "id": "29c0fd3c",
   "metadata": {},
   "outputs": [
    {
     "data": {
      "application/vnd.jupyter.widget-view+json": {
       "model_id": "9997c9b9fbbe4400a542dca754a34d02",
       "version_major": 2,
       "version_minor": 0
      },
      "text/plain": [
       "Downloading (…)okenizer_config.json:   0%|          | 0.00/39.0 [00:00<?, ?B/s]"
      ]
     },
     "metadata": {},
     "output_type": "display_data"
    },
    {
     "name": "stderr",
     "output_type": "stream",
     "text": [
      "D:\\anaconda3\\lib\\site-packages\\huggingface_hub\\file_download.py:129: UserWarning: `huggingface_hub` cache-system uses symlinks by default to efficiently store duplicated files but your machine does not support them in C:\\Users\\nisha\\.cache\\huggingface\\hub. Caching files will still work but in a degraded version that might require more space on your disk. This warning can be disabled by setting the `HF_HUB_DISABLE_SYMLINKS_WARNING` environment variable. For more details, see https://huggingface.co/docs/huggingface_hub/how-to-cache#limitations.\n",
      "To support symlinks on Windows, you either need to activate Developer Mode or to run Python as an administrator. In order to see activate developer mode, see this article: https://docs.microsoft.com/en-us/windows/apps/get-started/enable-your-device-for-development\n",
      "  warnings.warn(message)\n"
     ]
    },
    {
     "data": {
      "application/vnd.jupyter.widget-view+json": {
       "model_id": "a600e47e6b014ab2b26650ef7402f88a",
       "version_major": 2,
       "version_minor": 0
      },
      "text/plain": [
       "Downloading (…)lve/main/config.json:   0%|          | 0.00/953 [00:00<?, ?B/s]"
      ]
     },
     "metadata": {},
     "output_type": "display_data"
    },
    {
     "data": {
      "application/vnd.jupyter.widget-view+json": {
       "model_id": "8bd0357bcf884373a2fde2a3bf1bd425",
       "version_major": 2,
       "version_minor": 0
      },
      "text/plain": [
       "Downloading (…)solve/main/vocab.txt:   0%|          | 0.00/872k [00:00<?, ?B/s]"
      ]
     },
     "metadata": {},
     "output_type": "display_data"
    },
    {
     "data": {
      "application/vnd.jupyter.widget-view+json": {
       "model_id": "49afc696b7e143e4856e6ead6cd62050",
       "version_major": 2,
       "version_minor": 0
      },
      "text/plain": [
       "Downloading (…)cial_tokens_map.json:   0%|          | 0.00/112 [00:00<?, ?B/s]"
      ]
     },
     "metadata": {},
     "output_type": "display_data"
    },
    {
     "data": {
      "application/vnd.jupyter.widget-view+json": {
       "model_id": "4a8d21b7cc24488b97436165c2e91ad7",
       "version_major": 2,
       "version_minor": 0
      },
      "text/plain": [
       "Downloading (…)\"pytorch_model.bin\";:   0%|          | 0.00/669M [00:00<?, ?B/s]"
      ]
     },
     "metadata": {},
     "output_type": "display_data"
    }
   ],
   "source": [
    "# instantiating model\n",
    "\n",
    "tokenizer = AutoTokenizer.from_pretrained('nlptown/bert-base-multilingual-uncased-sentiment')\n",
    "model = AutoModelForSequenceClassification.from_pretrained('nlptown/bert-base-multilingual-uncased-sentiment')"
   ]
  },
  {
   "cell_type": "code",
   "execution_count": 28,
   "id": "d63761e8",
   "metadata": {},
   "outputs": [
    {
     "data": {
      "text/plain": [
       "3"
      ]
     },
     "execution_count": 28,
     "metadata": {},
     "output_type": "execute_result"
    }
   ],
   "source": [
    "# encoding and calculating sentiment\n",
    "\n",
    "tokens = tokenizer.encode('this is so good but its disgusting', return_tensors='pt')\n",
    "\n",
    "result = model(tokens)\n",
    "int(torch.argmax(result.logits))+1"
   ]
  },
  {
   "cell_type": "code",
   "execution_count": 32,
   "id": "3d6476fa",
   "metadata": {},
   "outputs": [
    {
     "data": {
      "text/plain": [
       "\"We visited this restaurant for dinner during the Vivid Sydney week. Some other Japanese restaurants charged minimum $45 per person during this time, but luckily we found this restaurant which satisfied our cravings for sushi and sashimi.Food: We ordered the blue fin tuna sushi/sashimi platter for two and a drink. The fish was fresh and the sushi taste great. The drink was similar to Starbucks green tea frappucino. But there are a wide variety of sake options and non-alcoholic drinks. Service: We just walked in without knowing that we need to make a reservation during the Vivid Sydney week. The staff was nice and seated us at the bar. The service was quick and friendly.Ambiance: The restaurant is classy and casual. Reservation is recommended especially during weekends and special events. Price: The price is mid-range, not as expensive as other Japanese restaurants. There are wide variety of sushi and sashimi platters, so you can choose the ones that fit your budget.Conclusion: It's an excellent Japanese restaurant not too far from the Opera House. We'll definitely visit again if we are in the area.\""
      ]
     },
     "execution_count": 32,
     "metadata": {},
     "output_type": "execute_result"
    }
   ],
   "source": [
    "# collect reviews\n",
    "\n",
    "r = requests.get(\"https://www.yelp.com/biz/masuya-japanese-seafood-restaurant-sydney?osq=Japanese\")\n",
    "soup = BeautifulSoup(r.text, 'html.parser')\n",
    "regex =  re.compile('.*comment.*')\n",
    "results = soup.find_all('p', {'class':regex})\n",
    "reviews = [result.text for result in results]\n",
    "\n",
    "reviews[0]"
   ]
  },
  {
   "cell_type": "code",
   "execution_count": 33,
   "id": "83c23371",
   "metadata": {},
   "outputs": [
    {
     "data": {
      "text/plain": [
       "\"We visited this restaurant for dinner during the Vivid Sydney week. Some other Japanese restaurants charged minimum $45 per person during this time, but luckily we found this restaurant which satisfied our cravings for sushi and sashimi.Food: We ordered the blue fin tuna sushi/sashimi platter for two and a drink. The fish was fresh and the sushi taste great. The drink was similar to Starbucks green tea frappucino. But there are a wide variety of sake options and non-alcoholic drinks. Service: We just walked in without knowing that we need to make a reservation during the Vivid Sydney week. The staff was nice and seated us at the bar. The service was quick and friendly.Ambiance: The restaurant is classy and casual. Reservation is recommended especially during weekends and special events. Price: The price is mid-range, not as expensive as other Japanese restaurants. There are wide variety of sushi and sashimi platters, so you can choose the ones that fit your budget.Conclusion: It's an excellent Japanese restaurant not too far from the Opera House. We'll definitely visit again if we are in the area.\""
      ]
     },
     "execution_count": 33,
     "metadata": {},
     "output_type": "execute_result"
    }
   ],
   "source": [
    "import numpy as np\n",
    "import pandas as pd\n",
    "\n",
    "df = pd.DataFrame(np.array(reviews), columns=['review'])\n",
    "df['review'].iloc[0]"
   ]
  },
  {
   "cell_type": "code",
   "execution_count": 34,
   "id": "b2536b3c",
   "metadata": {},
   "outputs": [],
   "source": [
    "def sentiment_score(review):\n",
    "    tokens = tokenizer.encode(review, return_tensors='pt')\n",
    "    result = model(tokens)\n",
    "    return int(torch.argmax(result.logits))+1"
   ]
  },
  {
   "cell_type": "code",
   "execution_count": 35,
   "id": "f07bf9a2",
   "metadata": {},
   "outputs": [
    {
     "data": {
      "text/plain": [
       "4"
      ]
     },
     "execution_count": 35,
     "metadata": {},
     "output_type": "execute_result"
    }
   ],
   "source": [
    "sentiment_score(df['review'].iloc[0])"
   ]
  },
  {
   "cell_type": "code",
   "execution_count": 36,
   "id": "1217cbf3",
   "metadata": {},
   "outputs": [
    {
     "data": {
      "text/html": [
       "<div>\n",
       "<style scoped>\n",
       "    .dataframe tbody tr th:only-of-type {\n",
       "        vertical-align: middle;\n",
       "    }\n",
       "\n",
       "    .dataframe tbody tr th {\n",
       "        vertical-align: top;\n",
       "    }\n",
       "\n",
       "    .dataframe thead th {\n",
       "        text-align: right;\n",
       "    }\n",
       "</style>\n",
       "<table border=\"1\" class=\"dataframe\">\n",
       "  <thead>\n",
       "    <tr style=\"text-align: right;\">\n",
       "      <th></th>\n",
       "      <th>review</th>\n",
       "      <th>sentiment</th>\n",
       "    </tr>\n",
       "  </thead>\n",
       "  <tbody>\n",
       "    <tr>\n",
       "      <th>0</th>\n",
       "      <td>We visited this restaurant for dinner during t...</td>\n",
       "      <td>4</td>\n",
       "    </tr>\n",
       "    <tr>\n",
       "      <th>1</th>\n",
       "      <td>Wonderfully fresh Sashimi and the tempura soft...</td>\n",
       "      <td>5</td>\n",
       "    </tr>\n",
       "    <tr>\n",
       "      <th>2</th>\n",
       "      <td>This has to be one of the top japanese restaur...</td>\n",
       "      <td>4</td>\n",
       "    </tr>\n",
       "    <tr>\n",
       "      <th>3</th>\n",
       "      <td>Overall I'd give it a 4.5 but rounding up. We ...</td>\n",
       "      <td>4</td>\n",
       "    </tr>\n",
       "    <tr>\n",
       "      <th>4</th>\n",
       "      <td>Welcome to the new Japanese McDonald.Noisy, br...</td>\n",
       "      <td>4</td>\n",
       "    </tr>\n",
       "    <tr>\n",
       "      <th>5</th>\n",
       "      <td>Nice restaurant with genuine japanese cuisine....</td>\n",
       "      <td>4</td>\n",
       "    </tr>\n",
       "    <tr>\n",
       "      <th>6</th>\n",
       "      <td>GREAT great Japanese in Sydney. I came here af...</td>\n",
       "      <td>5</td>\n",
       "    </tr>\n",
       "    <tr>\n",
       "      <th>7</th>\n",
       "      <td>Went there late. Very nice friendly stuffs. Fo...</td>\n",
       "      <td>5</td>\n",
       "    </tr>\n",
       "    <tr>\n",
       "      <th>8</th>\n",
       "      <td>Had a lovely meal here.  Service was efficient...</td>\n",
       "      <td>5</td>\n",
       "    </tr>\n",
       "    <tr>\n",
       "      <th>9</th>\n",
       "      <td>Not exactly sure how long this place has been ...</td>\n",
       "      <td>4</td>\n",
       "    </tr>\n",
       "  </tbody>\n",
       "</table>\n",
       "</div>"
      ],
      "text/plain": [
       "                                              review  sentiment\n",
       "0  We visited this restaurant for dinner during t...          4\n",
       "1  Wonderfully fresh Sashimi and the tempura soft...          5\n",
       "2  This has to be one of the top japanese restaur...          4\n",
       "3  Overall I'd give it a 4.5 but rounding up. We ...          4\n",
       "4  Welcome to the new Japanese McDonald.Noisy, br...          4\n",
       "5  Nice restaurant with genuine japanese cuisine....          4\n",
       "6  GREAT great Japanese in Sydney. I came here af...          5\n",
       "7  Went there late. Very nice friendly stuffs. Fo...          5\n",
       "8  Had a lovely meal here.  Service was efficient...          5\n",
       "9  Not exactly sure how long this place has been ...          4"
      ]
     },
     "execution_count": 36,
     "metadata": {},
     "output_type": "execute_result"
    }
   ],
   "source": [
    "df['sentiment'] = df['review'].apply(lambda x: sentiment_score(x))\n",
    "df"
   ]
  },
  {
   "cell_type": "code",
   "execution_count": null,
   "id": "e161ddc7",
   "metadata": {},
   "outputs": [],
   "source": []
  }
 ],
 "metadata": {
  "kernelspec": {
   "display_name": "Python 3 (ipykernel)",
   "language": "python",
   "name": "python3"
  },
  "language_info": {
   "codemirror_mode": {
    "name": "ipython",
    "version": 3
   },
   "file_extension": ".py",
   "mimetype": "text/x-python",
   "name": "python",
   "nbconvert_exporter": "python",
   "pygments_lexer": "ipython3",
   "version": "3.9.13"
  }
 },
 "nbformat": 4,
 "nbformat_minor": 5
}
