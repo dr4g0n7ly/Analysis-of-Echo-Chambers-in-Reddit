{
 "cells": [
  {
   "cell_type": "code",
   "execution_count": 2,
   "id": "591ae2e4",
   "metadata": {},
   "outputs": [],
   "source": [
    "# importing packages\n",
    "\n",
    "from transformers import AutoTokenizer, AutoModelForSequenceClassification\n",
    "import torch\n",
    "import requests\n",
    "from bs4 import BeautifulSoup\n",
    "import re"
   ]
  },
  {
   "cell_type": "code",
   "execution_count": 3,
   "id": "64d3db1b",
   "metadata": {},
   "outputs": [
    {
     "data": {
      "application/vnd.jupyter.widget-view+json": {
       "model_id": "9997c9b9fbbe4400a542dca754a34d02",
       "version_major": 2,
       "version_minor": 0
      },
      "text/plain": [
       "Downloading (…)okenizer_config.json:   0%|          | 0.00/39.0 [00:00<?, ?B/s]"
      ]
     },
     "metadata": {},
     "output_type": "display_data"
    },
    {
     "name": "stderr",
     "output_type": "stream",
     "text": [
      "D:\\anaconda3\\lib\\site-packages\\huggingface_hub\\file_download.py:129: UserWarning: `huggingface_hub` cache-system uses symlinks by default to efficiently store duplicated files but your machine does not support them in C:\\Users\\nisha\\.cache\\huggingface\\hub. Caching files will still work but in a degraded version that might require more space on your disk. This warning can be disabled by setting the `HF_HUB_DISABLE_SYMLINKS_WARNING` environment variable. For more details, see https://huggingface.co/docs/huggingface_hub/how-to-cache#limitations.\n",
      "To support symlinks on Windows, you either need to activate Developer Mode or to run Python as an administrator. In order to see activate developer mode, see this article: https://docs.microsoft.com/en-us/windows/apps/get-started/enable-your-device-for-development\n",
      "  warnings.warn(message)\n"
     ]
    },
    {
     "data": {
      "application/vnd.jupyter.widget-view+json": {
       "model_id": "a600e47e6b014ab2b26650ef7402f88a",
       "version_major": 2,
       "version_minor": 0
      },
      "text/plain": [
       "Downloading (…)lve/main/config.json:   0%|          | 0.00/953 [00:00<?, ?B/s]"
      ]
     },
     "metadata": {},
     "output_type": "display_data"
    },
    {
     "data": {
      "application/vnd.jupyter.widget-view+json": {
       "model_id": "8bd0357bcf884373a2fde2a3bf1bd425",
       "version_major": 2,
       "version_minor": 0
      },
      "text/plain": [
       "Downloading (…)solve/main/vocab.txt:   0%|          | 0.00/872k [00:00<?, ?B/s]"
      ]
     },
     "metadata": {},
     "output_type": "display_data"
    },
    {
     "data": {
      "application/vnd.jupyter.widget-view+json": {
       "model_id": "49afc696b7e143e4856e6ead6cd62050",
       "version_major": 2,
       "version_minor": 0
      },
      "text/plain": [
       "Downloading (…)cial_tokens_map.json:   0%|          | 0.00/112 [00:00<?, ?B/s]"
      ]
     },
     "metadata": {},
     "output_type": "display_data"
    },
    {
     "data": {
      "application/vnd.jupyter.widget-view+json": {
       "model_id": "4a8d21b7cc24488b97436165c2e91ad7",
       "version_major": 2,
       "version_minor": 0
      },
      "text/plain": [
       "Downloading (…)\"pytorch_model.bin\";:   0%|          | 0.00/669M [00:00<?, ?B/s]"
      ]
     },
     "metadata": {},
     "output_type": "display_data"
    }
   ],
   "source": [
    "# instantiating model\n",
    "\n",
    "tokenizer = AutoTokenizer.from_pretrained('nlptown/bert-base-multilingual-uncased-sentiment')\n",
    "model = AutoModelForSequenceClassification.from_pretrained('nlptown/bert-base-multilingual-uncased-sentiment')"
   ]
  },
  {
   "cell_type": "code",
   "execution_count": 28,
   "id": "de525169",
   "metadata": {},
   "outputs": [
    {
     "data": {
      "text/plain": [
       "3"
      ]
     },
     "execution_count": 28,
     "metadata": {},
     "output_type": "execute_result"
    }
   ],
   "source": [
    "# encoding and calculating sentiment\n",
    "\n",
    "tokens = tokenizer.encode('this is so good but its disgusting', return_tensors='pt')\n",
    "\n",
    "result = model(tokens)\n",
    "int(torch.argmax(result.logits))+1"
   ]
  },
  {
   "cell_type": "code",
   "execution_count": 32,
   "id": "8f7bd83d",
   "metadata": {},
   "outputs": [
    {
     "data": {
      "text/plain": [
       "\"We visited this restaurant for dinner during the Vivid Sydney week. Some other Japanese restaurants charged minimum $45 per person during this time, but luckily we found this restaurant which satisfied our cravings for sushi and sashimi.Food: We ordered the blue fin tuna sushi/sashimi platter for two and a drink. The fish was fresh and the sushi taste great. The drink was similar to Starbucks green tea frappucino. But there are a wide variety of sake options and non-alcoholic drinks. Service: We just walked in without knowing that we need to make a reservation during the Vivid Sydney week. The staff was nice and seated us at the bar. The service was quick and friendly.Ambiance: The restaurant is classy and casual. Reservation is recommended especially during weekends and special events. Price: The price is mid-range, not as expensive as other Japanese restaurants. There are wide variety of sushi and sashimi platters, so you can choose the ones that fit your budget.Conclusion: It's an excellent Japanese restaurant not too far from the Opera House. We'll definitely visit again if we are in the area.\""
      ]
     },
     "execution_count": 32,
     "metadata": {},
     "output_type": "execute_result"
    }
   ],
   "source": [
    "# collect reviews\n",
    "\n",
    "r = requests.get(\"https://www.yelp.com/biz/masuya-japanese-seafood-restaurant-sydney?osq=Japanese\")\n",
    "soup = BeautifulSoup(r.text, 'html.parser')\n",
    "regex =  re.compile('.*comment.*')\n",
    "results = soup.find_all('p', {'class':regex})\n",
    "reviews = [result.text for result in results]\n",
    "\n",
    "reviews[0]"
   ]
  },
  {
   "cell_type": "code",
   "execution_count": 33,
   "id": "b9fec9ec",
   "metadata": {},
   "outputs": [
    {
     "data": {
      "text/plain": [
       "\"We visited this restaurant for dinner during the Vivid Sydney week. Some other Japanese restaurants charged minimum $45 per person during this time, but luckily we found this restaurant which satisfied our cravings for sushi and sashimi.Food: We ordered the blue fin tuna sushi/sashimi platter for two and a drink. The fish was fresh and the sushi taste great. The drink was similar to Starbucks green tea frappucino. But there are a wide variety of sake options and non-alcoholic drinks. Service: We just walked in without knowing that we need to make a reservation during the Vivid Sydney week. The staff was nice and seated us at the bar. The service was quick and friendly.Ambiance: The restaurant is classy and casual. Reservation is recommended especially during weekends and special events. Price: The price is mid-range, not as expensive as other Japanese restaurants. There are wide variety of sushi and sashimi platters, so you can choose the ones that fit your budget.Conclusion: It's an excellent Japanese restaurant not too far from the Opera House. We'll definitely visit again if we are in the area.\""
      ]
     },
     "execution_count": 33,
     "metadata": {},
     "output_type": "execute_result"
    }
   ],
   "source": [
    "import numpy as np\n",
    "import pandas as pd\n",
    "\n",
    "df = pd.DataFrame(np.array(reviews), columns=['review'])\n",
    "df['review'].iloc[0]"
   ]
  },
  {
   "cell_type": "code",
   "execution_count": 34,
   "id": "f3c56ef5",
   "metadata": {},
   "outputs": [],
   "source": [
    "def sentiment_score(review):\n",
    "    tokens = tokenizer.encode(review, return_tensors='pt')\n",
    "    result = model(tokens)\n",
    "    return int(torch.argmax(result.logits))+1"
   ]
  },
  {
   "cell_type": "code",
   "execution_count": 35,
   "id": "07264d2c",
   "metadata": {},
   "outputs": [
    {
     "data": {
      "text/plain": [
       "4"
      ]
     },
     "execution_count": 35,
     "metadata": {},
     "output_type": "execute_result"
    }
   ],
   "source": [
    "sentiment_score(df['review'].iloc[0])"
   ]
  },
  {
   "cell_type": "code",
   "execution_count": null,
   "id": "0d8f9011",
   "metadata": {},
   "outputs": [],
   "source": []
  }
 ],
 "metadata": {
  "kernelspec": {
   "display_name": "Python 3 (ipykernel)",
   "language": "python",
   "name": "python3"
  },
  "language_info": {
   "codemirror_mode": {
    "name": "ipython",
    "version": 3
   },
   "file_extension": ".py",
   "mimetype": "text/x-python",
   "name": "python",
   "nbconvert_exporter": "python",
   "pygments_lexer": "ipython3",
   "version": "3.9.13"
  }
 },
 "nbformat": 4,
 "nbformat_minor": 5
}
